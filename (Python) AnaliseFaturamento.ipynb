{
 "cells": [
  {
   "cell_type": "markdown",
   "metadata": {},
   "source": [
    "# Análise do Faturamento da Empresa\n",
    "\n",
    "#### Cenário: A empresa gera receita a partir de 4 plataformas de pagamento diferentes: Hotmart, Kiwify, Stripe e Perfect Pay. \n",
    "\n",
    "#### O presente trabalho buscou consolidar as bases de dados em um único DataFrame, tratar os dados e analisar o faturamento.\n",
    "\n",
    "Observação: Os nomes dos produtos foram anonimizados e os valores de vendas foram multiplicados por um fator multiplicador. \n",
    "\n",
    "----------------------------------------------------------------------------------------------------------------------------------------------------------------"
   ]
  },
  {
   "cell_type": "markdown",
   "metadata": {},
   "source": [
    "### Importando bibliotecas"
   ]
  },
  {
   "cell_type": "code",
   "execution_count": 1,
   "metadata": {},
   "outputs": [],
   "source": [
    "import matplotlib as mpl\n",
    "import matplotlib.pyplot as plt\n",
    "import numpy as np\n",
    "import pandas as pd\n",
    "import seaborn as sns\n",
    "\n",
    "%matplotlib inline"
   ]
  },
  {
   "cell_type": "markdown",
   "metadata": {},
   "source": [
    "### Importando bases de dados"
   ]
  },
  {
   "cell_type": "code",
   "execution_count": 2,
   "metadata": {},
   "outputs": [],
   "source": [
    "df_hotmart = pd.read_excel('Historico_Hotmart.xlsx')\n",
    "df_kiwify = pd.read_excel('Historico_Kiwify.xlsx')\n",
    "df_stripe = pd.read_csv('Historico_Stripe.csv')\n",
    "\n",
    "# O sistema da Perfect Pay (PP) não permitiu extrair todos os dados em um único arquivo\n",
    "df_pp_parte_1 = pd.read_excel('Historico_PP_pt1.xlsx')\n",
    "df_pp_parte_2 = pd.read_excel('Historico_PP_pt2.xlsx')\n",
    "\n",
    "pd.set_option('display.max.columns', 60) # Para ver todas as colunas do Df"
   ]
  },
  {
   "cell_type": "markdown",
   "metadata": {},
   "source": [
    "### Consolidando as duas bases da Perfect Pay (parte 1 e 2) em uma só"
   ]
  },
  {
   "cell_type": "code",
   "execution_count": 3,
   "metadata": {},
   "outputs": [
    {
     "name": "stdout",
     "output_type": "stream",
     "text": [
      "(1732, 43)\n",
      "(4015, 43)\n"
     ]
    }
   ],
   "source": [
    "# Conferindo se número de colunas é o mesmo\n",
    "print(df_pp_parte_1.shape)\n",
    "print(df_pp_parte_2.shape)\n",
    "\n",
    "# Unindo as duas bases da Perfect Pay\n",
    "df_pp = pd.concat([df_pp_parte_1, df_pp_parte_2], ignore_index=True)"
   ]
  },
  {
   "cell_type": "markdown",
   "metadata": {},
   "source": [
    "### Selecionando quais colunas vão ser analisadas"
   ]
  },
  {
   "cell_type": "code",
   "execution_count": 4,
   "metadata": {},
   "outputs": [],
   "source": [
    "# display(df_hotmart.head(1))\n",
    "# display(df_kiwify.head(1))\n",
    "# display(df_pp.head(1))\n",
    "# display(df_stripe.head(1))"
   ]
  },
  {
   "cell_type": "markdown",
   "metadata": {},
   "source": [
    "### Colunas Selecionadas:\n",
    "- Hotmart: Nome do Produto, Data de Venda, Status, País, Tipo de Pagamento, Valor da Comissão Convertido\n",
    "<br> <p>Criar coluna de Valor da Venda = (Preço Total Convertido X Taxa de Câmbio da Comissão)<p>\n",
    "- Kiwify: Status, Produto, Valor líquido, Preço base do produto, Pagamento, Data de Criação\n",
    "<br> <p>Criar coluna de País (Todas as vendas da Kiwify são no Brasil)<p>\n",
    "- Perfect Pay: DataVenda, Status, FormaPagamento, Produto, ValorVenda, ValorComissão\n",
    "<br> <p>Criar coluna de País (Todas as vendas da Perfect Pay são no Brasil)<p>\n",
    "- Stripe: Created (UTC), Converted Amount, Status \n",
    "<br> <p>Criar coluna de produto, de país, de forma de pagamento e de valor líquido (Converted Amount - Fee)<p>"
   ]
  },
  {
   "cell_type": "markdown",
   "metadata": {},
   "source": [
    "### Ajustando as bases de dados"
   ]
  },
  {
   "cell_type": "markdown",
   "metadata": {},
   "source": [
    "- Hotmart"
   ]
  },
  {
   "cell_type": "code",
   "execution_count": 5,
   "metadata": {},
   "outputs": [
    {
     "name": "stdout",
     "output_type": "stream",
     "text": [
      "62\n"
     ]
    }
   ],
   "source": [
    "# Verificando se há valores vazios na coluna de País\n",
    "print(df_hotmart['País'].isnull().sum())\n",
    "\n",
    "# Preenchendo valores vazios da coluna de País (O País está especificado nas vendas para o exterior e está vazio para vendas no Brasil)\n",
    "df_hotmart['País'] = df_hotmart['País'].fillna('Brasil')"
   ]
  },
  {
   "cell_type": "code",
   "execution_count": 6,
   "metadata": {},
   "outputs": [],
   "source": [
    "# Criando coluna de Valor da Venda e nome da Plataforma\n",
    "df_hotmart['Valor da Venda'] = df_hotmart['Preço Total Convertido'] * df_hotmart['Taxa de Câmbio da Comissão']\n",
    "df_hotmart['Plataforma'] = 'Hotmart'\n",
    "\n",
    "# Criando coluna de Mês e Ano\n",
    "df_hotmart['Mês'] = df_hotmart['Data de Venda'].str[3:5].astype(np.int32, copy=False)\n",
    "df_hotmart['Ano'] = df_hotmart['Data de Venda'].str[6:10].astype(np.int32, copy=False)"
   ]
  },
  {
   "cell_type": "code",
   "execution_count": 7,
   "metadata": {},
   "outputs": [
    {
     "name": "stdout",
     "output_type": "stream",
     "text": [
      "79\n",
      "79\n"
     ]
    }
   ],
   "source": [
    "# Verificando se há valores vazios nas colunas de Valor da Venda e Valor da Comissão Convertido\n",
    "print(df_hotmart['Valor da Venda'].isnull().sum())\n",
    "print(df_hotmart['Valor da Comissão Convertido'].isnull().sum())\n",
    "\n",
    "# Preenchendo valores vazios das colunas de Valor da Venda e Valor da Comissão Convertido\n",
    "df_hotmart['Valor da Venda'] = df_hotmart['Valor da Venda'].fillna(df_hotmart['Preço do Produto'])\n",
    "df_hotmart['Valor da Comissão Convertido'] = df_hotmart['Valor da Comissão Convertido'].fillna(df_hotmart['Valor da Comissão Gerada'])"
   ]
  },
  {
   "cell_type": "code",
   "execution_count": 8,
   "metadata": {},
   "outputs": [],
   "source": [
    "# Filtrando as colunas e já colocando em ordem\n",
    "df_hotmart = df_hotmart.loc[:, ['Plataforma', 'Nome do Produto', 'Data de Venda', 'Mês', 'Ano', 'Status', 'Valor da Venda', 'Valor da Comissão Convertido', 'Tipo de Pagamento', 'País']]"
   ]
  },
  {
   "cell_type": "markdown",
   "metadata": {},
   "source": [
    "- Kiwify"
   ]
  },
  {
   "cell_type": "code",
   "execution_count": 9,
   "metadata": {},
   "outputs": [],
   "source": [
    "# Criando coluna de País e nome da Plataforma\n",
    "df_kiwify['País'] = 'Brasil'\n",
    "df_kiwify['Plataforma'] = 'Kiwify'\n",
    "\n",
    "# Criando coluna de Mês e Ano\n",
    "df_kiwify['Mês'] = df_kiwify['Data de Criação'].str[3:5].astype(np.int32, copy=False)\n",
    "df_kiwify['Ano'] = df_kiwify['Data de Criação'].str[6:10].astype(np.int32, copy=False)"
   ]
  },
  {
   "cell_type": "code",
   "execution_count": 10,
   "metadata": {},
   "outputs": [],
   "source": [
    "# Filtrando as colunas e já colocando em ordem\n",
    "df_kiwify = df_kiwify.loc[:, ['Plataforma', 'Produto', 'Data de Criação', 'Mês', 'Ano', 'Status', 'Preço base do produto', 'Valor líquido', 'Pagamento', 'País']]"
   ]
  },
  {
   "cell_type": "markdown",
   "metadata": {},
   "source": [
    "- Perfect Pay"
   ]
  },
  {
   "cell_type": "code",
   "execution_count": 11,
   "metadata": {},
   "outputs": [],
   "source": [
    "# Criando coluna de País e nome da Plataforma\n",
    "df_pp['País'] = 'Brasil'\n",
    "df_pp['Plataforma'] = 'Perfect Pay'\n",
    "\n",
    "# Criando coluna de Mês e Ano\n",
    "df_pp['Mês'] = df_pp['DataVenda'].str[3:5].astype(np.int32, copy=False)\n",
    "df_pp['Ano'] = df_pp['DataVenda'].str[6:10].astype(np.int32, copy=False)"
   ]
  },
  {
   "cell_type": "code",
   "execution_count": 12,
   "metadata": {},
   "outputs": [],
   "source": [
    "# Filtrando as colunas e já colocando em ordem\n",
    "df_pp = df_pp.loc[:, ['Plataforma', 'Produto', 'DataVenda', 'Mês', 'Ano', 'Status', 'ValorVenda', 'ValorComissão', 'FormaPagamento', 'País']]"
   ]
  },
  {
   "cell_type": "code",
   "execution_count": 13,
   "metadata": {},
   "outputs": [
    {
     "name": "stdout",
     "output_type": "stream",
     "text": [
      "Plataforma        object\n",
      "Produto           object\n",
      "DataVenda         object\n",
      "Mês                int32\n",
      "Ano                int32\n",
      "Status            object\n",
      "ValorVenda        object\n",
      "ValorComissão     object\n",
      "FormaPagamento    object\n",
      "País              object\n",
      "dtype: object\n"
     ]
    }
   ],
   "source": [
    "# Analisando os tipos de cada coluna\n",
    "print(df_pp.dtypes)\n",
    "\n",
    "# Transformando as colunas de valor em float\n",
    "df_pp['ValorVenda'] = df_pp['ValorVenda'].str.replace(',', '.').astype(np.float32, copy=False)\n",
    "df_pp['ValorComissão'] = df_pp['ValorComissão'].str.replace(',', '.').astype(np.float32, copy=False)"
   ]
  },
  {
   "cell_type": "markdown",
   "metadata": {},
   "source": [
    "- Stripe"
   ]
  },
  {
   "cell_type": "code",
   "execution_count": 14,
   "metadata": {},
   "outputs": [],
   "source": [
    "# Criando colunas de País, Produto, Forma de Pagamento, Valor líquido e Plataforma\n",
    "df_stripe['País'] = 'Exterior'\n",
    "df_stripe['Produto'] = 'EspiaYa'\n",
    "df_stripe['Forma de Pagamento'] = 'Cartao de Credito'\n",
    "df_stripe['Valor líquido'] = df_stripe['Converted Amount'] - df_stripe['Fee']\n",
    "df_stripe['Plataforma'] = 'Stripe'\n",
    "\n",
    "# Criando coluna de Mês e Ano\n",
    "df_stripe['Mês'] = df_stripe['Created (UTC)'].str[5:7].astype(np.int32, copy=False)\n",
    "df_stripe['Ano'] = df_stripe['Created (UTC)'].str[0:4].astype(np.int32, copy=False)"
   ]
  },
  {
   "cell_type": "code",
   "execution_count": 15,
   "metadata": {},
   "outputs": [],
   "source": [
    "# Filtrando as colunas e já colocando em ordem\n",
    "df_stripe = df_stripe.loc[:, ['Plataforma', 'Produto', 'Created (UTC)', 'Mês', 'Ano', 'Status', 'Converted Amount', 'Valor líquido', 'Forma de Pagamento', 'País']]"
   ]
  },
  {
   "cell_type": "markdown",
   "metadata": {},
   "source": [
    "### Consolidando as 4 bases de dados"
   ]
  },
  {
   "cell_type": "code",
   "execution_count": 16,
   "metadata": {},
   "outputs": [],
   "source": [
    "# Para juntar bases com nomes de colunas diferentes, é preciso retirar o nome das colunas, depois juntar e depois renomear\n",
    "\n",
    "df_hotmart.columns = range(df_stripe.shape[1])\n",
    "df_kiwify.columns = range(df_stripe.shape[1])\n",
    "df_pp.columns = range(df_stripe.shape[1])\n",
    "df_stripe.columns = range(df_stripe.shape[1])"
   ]
  },
  {
   "cell_type": "code",
   "execution_count": 17,
   "metadata": {},
   "outputs": [
    {
     "name": "stdout",
     "output_type": "stream",
     "text": [
      "(7533, 10)\n"
     ]
    }
   ],
   "source": [
    "# Juntando os DataFrames\n",
    "\n",
    "bases = [df_hotmart, df_kiwify, df_pp, df_stripe]\n",
    "\n",
    "df_consolidado = pd.DataFrame()\n",
    "\n",
    "for dataframe in bases:\n",
    "    df_consolidado = pd.concat([df_consolidado, dataframe], axis=0)\n",
    "\n",
    "df_consolidado = df_consolidado.reset_index(drop=True)\n",
    "df_consolidado.columns = ['Plataforma', 'Produto', 'Data da Venda', 'Mês', 'Ano', 'Status', 'Valor da Venda', 'Valor da Comissão', 'Forma de Pagamento', 'Pais']\n",
    "\n",
    "print(df_consolidado.shape)"
   ]
  },
  {
   "cell_type": "markdown",
   "metadata": {},
   "source": [
    "### Analisando e tratando colunas do DataFrame consolidado"
   ]
  },
  {
   "cell_type": "markdown",
   "metadata": {},
   "source": [
    "- Produto"
   ]
  },
  {
   "cell_type": "code",
   "execution_count": 18,
   "metadata": {},
   "outputs": [],
   "source": [
    "# Anonimizando os nomes dos produtos\n",
    "\n",
    "df_prod_anon = pd.read_excel('De_Para_Prod_Anon.xlsx')\n",
    "\n",
    "for linha in df_consolidado['Produto']:\n",
    "    if linha in list(df_prod_anon['Produto']):\n",
    "        df_consolidado.loc[df_consolidado['Produto'] == linha, 'Produto'] = df_prod_anon.loc[df_prod_anon['Produto'] == linha, 'Anon'].values[0]"
   ]
  },
  {
   "cell_type": "code",
   "execution_count": 19,
   "metadata": {},
   "outputs": [
    {
     "data": {
      "text/plain": [
       "Produto A    5186\n",
       "Produto B    1286\n",
       "Produto C     501\n",
       "Outros        142\n",
       "Produto G     119\n",
       "Produto D     112\n",
       "Produto E      67\n",
       "Produto I      49\n",
       "Produto F      36\n",
       "Produto H      35\n",
       "Name: Produto, dtype: int64"
      ]
     },
     "metadata": {},
     "output_type": "display_data"
    }
   ],
   "source": [
    "# Produtos com menos de 30 vendas recebem a classificação 'Outros'\n",
    "\n",
    "tabela_produtos = df_consolidado['Produto'].value_counts()\n",
    "produtos_agrupar = []\n",
    "\n",
    "for produto in tabela_produtos.index:\n",
    "    if tabela_produtos[produto] < 30:\n",
    "        produtos_agrupar.append(produto)\n",
    "\n",
    "for produto in produtos_agrupar:\n",
    "    df_consolidado.loc[df_consolidado['Produto'] == produto, 'Produto'] = 'Outros'\n",
    "\n",
    "display(df_consolidado['Produto'].value_counts())"
   ]
  },
  {
   "cell_type": "markdown",
   "metadata": {},
   "source": [
    "- Status"
   ]
  },
  {
   "cell_type": "code",
   "execution_count": 20,
   "metadata": {},
   "outputs": [
    {
     "data": {
      "text/plain": [
       "Aprovado       6751\n",
       "Reembolsado     448\n",
       "Chargeback      334\n",
       "Name: Status, dtype: int64"
      ]
     },
     "execution_count": 20,
     "metadata": {},
     "output_type": "execute_result"
    }
   ],
   "source": [
    "# Tratando a coluna de status para palavras diferentes, mas que significam a mesma coisa\n",
    "\n",
    "for linha in df_consolidado['Status']:\n",
    "    if (linha == 'Completo') or (linha == 'Paid') or (linha == 'paid'):\n",
    "        df_consolidado.loc[df_consolidado['Status'] == linha, 'Status'] = 'Aprovado'\n",
    "    elif (linha == 'Charge Back') or (linha == 'chargedback'):\n",
    "        df_consolidado.loc[df_consolidado['Status'] == linha, 'Status'] = 'Chargeback'\n",
    "    elif (linha == 'Devolvida') or (linha == 'refunded'):\n",
    "        df_consolidado.loc[df_consolidado['Status'] == linha, 'Status'] = 'Reembolsado'\n",
    "\n",
    "df_consolidado['Status'].value_counts()"
   ]
  },
  {
   "cell_type": "markdown",
   "metadata": {},
   "source": [
    "- Valor da Venda"
   ]
  },
  {
   "cell_type": "code",
   "execution_count": 21,
   "metadata": {},
   "outputs": [],
   "source": [
    "# Anonimizando dados da coluna de Valores de Venda\n",
    "\n",
    "FatorMultiplicador = pd.read_excel('FatorMultiplicador.xlsx').values[0]\n",
    "\n",
    "df_consolidado['Valor da Venda'] = df_consolidado['Valor da Venda']*FatorMultiplicador\n",
    "\n",
    "# Arredondando para 2 casas decimais\n",
    "\n",
    "df_consolidado['Valor da Venda'] = round(df_consolidado['Valor da Venda'], 2)"
   ]
  },
  {
   "cell_type": "markdown",
   "metadata": {},
   "source": [
    "- Valor da Comissão"
   ]
  },
  {
   "cell_type": "code",
   "execution_count": 22,
   "metadata": {},
   "outputs": [],
   "source": [
    "# Anonimizando dados da coluna de Valor da Comissão\n",
    "\n",
    "FatorMultiplicador = pd.read_excel('FatorMultiplicador.xlsx').values[0]\n",
    "\n",
    "df_consolidado['Valor da Comissão'] = df_consolidado['Valor da Comissão']*FatorMultiplicador\n",
    "\n",
    "# Arredondando para 2 casas decimais\n",
    "\n",
    "df_consolidado['Valor da Comissão'] = round(df_consolidado['Valor da Comissão'], 2)"
   ]
  },
  {
   "cell_type": "markdown",
   "metadata": {},
   "source": [
    "- Forma de Pagamento"
   ]
  },
  {
   "cell_type": "code",
   "execution_count": 23,
   "metadata": {},
   "outputs": [
    {
     "data": {
      "text/plain": [
       "Cartão de Crédito    3911\n",
       "Pix                  3452\n",
       "Nequi                  76\n",
       "PSE                    31\n",
       "PayPal                 28\n",
       "Mercado Pago           14\n",
       "elo                     8\n",
       "Servipag                5\n",
       "Mach Pay                4\n",
       "SPEI                    1\n",
       "Apple Pay               1\n",
       "boleto                  1\n",
       "hipercard               1\n",
       "Name: Forma de Pagamento, dtype: int64"
      ]
     },
     "execution_count": 23,
     "metadata": {},
     "output_type": "execute_result"
    }
   ],
   "source": [
    "# Tratando a coluna de Forma de Pagamento para palavras escritas de forma diferente, mas que significam a mesma coisa\n",
    "\n",
    "for linha in df_consolidado['Forma de Pagamento']:\n",
    "    if (linha == 'Cartao de Credito') or (linha == 'mastercard') or (linha == 'visa'):\n",
    "        df_consolidado.loc[df_consolidado['Forma de Pagamento'] == linha, 'Forma de Pagamento'] = 'Cartão de Crédito'\n",
    "    elif linha == 'pix':\n",
    "        df_consolidado.loc[df_consolidado['Forma de Pagamento'] == linha, 'Forma de Pagamento'] = 'Pix'\n",
    "\n",
    "df_consolidado['Forma de Pagamento'].value_counts()"
   ]
  },
  {
   "cell_type": "code",
   "execution_count": 24,
   "metadata": {},
   "outputs": [
    {
     "data": {
      "text/plain": [
       "Cartão de Crédito    3911\n",
       "Pix                  3452\n",
       "Nequi                  76\n",
       "Outros                 35\n",
       "PSE                    31\n",
       "PayPal                 28\n",
       "Name: Forma de Pagamento, dtype: int64"
      ]
     },
     "metadata": {},
     "output_type": "display_data"
    }
   ],
   "source": [
    "# Meios de pagamento com menos de 20 vendas recebem a classificação 'Outros'\n",
    "\n",
    "tabela_pagamento = df_consolidado['Forma de Pagamento'].value_counts()\n",
    "pagamento_agrupar = []\n",
    "\n",
    "for pagamento in tabela_pagamento.index:\n",
    "    if tabela_pagamento[pagamento] < 20:\n",
    "        pagamento_agrupar.append(pagamento)\n",
    "\n",
    "for pagamento in pagamento_agrupar:\n",
    "    df_consolidado.loc[df_consolidado['Forma de Pagamento'] == pagamento, 'Forma de Pagamento'] = 'Outros'\n",
    "\n",
    "display(df_consolidado['Forma de Pagamento'].value_counts())"
   ]
  },
  {
   "cell_type": "markdown",
   "metadata": {},
   "source": [
    "- País"
   ]
  },
  {
   "cell_type": "code",
   "execution_count": 25,
   "metadata": {},
   "outputs": [
    {
     "data": {
      "text/plain": [
       "Brasil      6072\n",
       "Exterior    1461\n",
       "Name: Pais, dtype: int64"
      ]
     },
     "execution_count": 25,
     "metadata": {},
     "output_type": "execute_result"
    }
   ],
   "source": [
    "# Transformar todos países fora o Brasil em 'Exterior'\n",
    "\n",
    "for linha in df_consolidado['Pais']:\n",
    "    if linha != 'Brasil':\n",
    "        df_consolidado.loc[df_consolidado['Pais'] == linha, 'Pais'] = 'Exterior'\n",
    "\n",
    "df_consolidado['Pais'].value_counts()"
   ]
  },
  {
   "cell_type": "markdown",
   "metadata": {},
   "source": [
    "### Conferindo a versão final da tabela consolidada"
   ]
  },
  {
   "cell_type": "code",
   "execution_count": 26,
   "metadata": {},
   "outputs": [
    {
     "name": "stdout",
     "output_type": "stream",
     "text": [
      "(7533, 10)\n",
      "Plataforma            0\n",
      "Produto               0\n",
      "Data da Venda         0\n",
      "Mês                   0\n",
      "Ano                   0\n",
      "Status                0\n",
      "Valor da Venda        0\n",
      "Valor da Comissão     0\n",
      "Forma de Pagamento    0\n",
      "Pais                  0\n",
      "dtype: int64\n"
     ]
    }
   ],
   "source": [
    "df_consolidado = df_consolidado.sort_values(by=['Ano', 'Mês'], ascending=True).reset_index(drop=True)\n",
    "\n",
    "print(df_consolidado.shape) # Conferindo linhas e colunas da tabela consolidada\n",
    "print(df_consolidado.isnull().sum()) # Verificando se não há valores vazios em nenhuma coluna"
   ]
  },
  {
   "cell_type": "code",
   "execution_count": 27,
   "metadata": {},
   "outputs": [
    {
     "data": {
      "text/html": [
       "<div>\n",
       "<style scoped>\n",
       "    .dataframe tbody tr th:only-of-type {\n",
       "        vertical-align: middle;\n",
       "    }\n",
       "\n",
       "    .dataframe tbody tr th {\n",
       "        vertical-align: top;\n",
       "    }\n",
       "\n",
       "    .dataframe thead th {\n",
       "        text-align: right;\n",
       "    }\n",
       "</style>\n",
       "<table border=\"1\" class=\"dataframe\">\n",
       "  <thead>\n",
       "    <tr style=\"text-align: right;\">\n",
       "      <th></th>\n",
       "      <th>Plataforma</th>\n",
       "      <th>Produto</th>\n",
       "      <th>Data da Venda</th>\n",
       "      <th>Mês</th>\n",
       "      <th>Ano</th>\n",
       "      <th>Status</th>\n",
       "      <th>Valor da Venda</th>\n",
       "      <th>Valor da Comissão</th>\n",
       "      <th>Forma de Pagamento</th>\n",
       "      <th>Pais</th>\n",
       "    </tr>\n",
       "  </thead>\n",
       "  <tbody>\n",
       "    <tr>\n",
       "      <th>0</th>\n",
       "      <td>Hotmart</td>\n",
       "      <td>Produto I</td>\n",
       "      <td>30/04/2022 16:40:43</td>\n",
       "      <td>4</td>\n",
       "      <td>2022</td>\n",
       "      <td>Aprovado</td>\n",
       "      <td>36.45</td>\n",
       "      <td>19.33</td>\n",
       "      <td>Pix</td>\n",
       "      <td>Brasil</td>\n",
       "    </tr>\n",
       "    <tr>\n",
       "      <th>1</th>\n",
       "      <td>Hotmart</td>\n",
       "      <td>Outros</td>\n",
       "      <td>30/04/2022 08:17:55</td>\n",
       "      <td>4</td>\n",
       "      <td>2022</td>\n",
       "      <td>Aprovado</td>\n",
       "      <td>26.86</td>\n",
       "      <td>14.04</td>\n",
       "      <td>Pix</td>\n",
       "      <td>Brasil</td>\n",
       "    </tr>\n",
       "    <tr>\n",
       "      <th>2</th>\n",
       "      <td>Hotmart</td>\n",
       "      <td>Produto I</td>\n",
       "      <td>29/04/2022 14:48:44</td>\n",
       "      <td>4</td>\n",
       "      <td>2022</td>\n",
       "      <td>Aprovado</td>\n",
       "      <td>36.45</td>\n",
       "      <td>19.33</td>\n",
       "      <td>Pix</td>\n",
       "      <td>Brasil</td>\n",
       "    </tr>\n",
       "    <tr>\n",
       "      <th>3</th>\n",
       "      <td>Hotmart</td>\n",
       "      <td>Produto I</td>\n",
       "      <td>29/04/2022 11:26:39</td>\n",
       "      <td>4</td>\n",
       "      <td>2022</td>\n",
       "      <td>Aprovado</td>\n",
       "      <td>36.45</td>\n",
       "      <td>19.33</td>\n",
       "      <td>Pix</td>\n",
       "      <td>Brasil</td>\n",
       "    </tr>\n",
       "    <tr>\n",
       "      <th>4</th>\n",
       "      <td>Hotmart</td>\n",
       "      <td>Outros</td>\n",
       "      <td>12/04/2022 23:52:04</td>\n",
       "      <td>4</td>\n",
       "      <td>2022</td>\n",
       "      <td>Aprovado</td>\n",
       "      <td>36.45</td>\n",
       "      <td>19.33</td>\n",
       "      <td>Pix</td>\n",
       "      <td>Brasil</td>\n",
       "    </tr>\n",
       "  </tbody>\n",
       "</table>\n",
       "</div>"
      ],
      "text/plain": [
       "  Plataforma    Produto        Data da Venda  Mês   Ano    Status  \\\n",
       "0    Hotmart  Produto I  30/04/2022 16:40:43    4  2022  Aprovado   \n",
       "1    Hotmart     Outros  30/04/2022 08:17:55    4  2022  Aprovado   \n",
       "2    Hotmart  Produto I  29/04/2022 14:48:44    4  2022  Aprovado   \n",
       "3    Hotmart  Produto I  29/04/2022 11:26:39    4  2022  Aprovado   \n",
       "4    Hotmart     Outros  12/04/2022 23:52:04    4  2022  Aprovado   \n",
       "\n",
       "   Valor da Venda  Valor da Comissão Forma de Pagamento    Pais  \n",
       "0           36.45              19.33                Pix  Brasil  \n",
       "1           26.86              14.04                Pix  Brasil  \n",
       "2           36.45              19.33                Pix  Brasil  \n",
       "3           36.45              19.33                Pix  Brasil  \n",
       "4           36.45              19.33                Pix  Brasil  "
      ]
     },
     "metadata": {},
     "output_type": "display_data"
    }
   ],
   "source": [
    "display(df_consolidado.head())"
   ]
  },
  {
   "cell_type": "markdown",
   "metadata": {},
   "source": [
    "### Visualização e análise dos dados"
   ]
  },
  {
   "cell_type": "markdown",
   "metadata": {},
   "source": [
    "- Número de vendas por forma de pagamento"
   ]
  },
  {
   "cell_type": "code",
   "execution_count": 28,
   "metadata": {},
   "outputs": [
    {
     "data": {
      "image/png": "[encoded data removed]",
      "text/plain": [
       "<Figure size 1000x600 with 1 Axes>"
      ]
     },
     "metadata": {},
     "output_type": "display_data"
    }
   ],
   "source": [
    "# Selecionando os dados\n",
    "\n",
    "vendas_forma_pagamento = df_consolidado.groupby(['Forma de Pagamento'])['Status'].count().reset_index().sort_values(by='Status', ascending=False)\n",
    "\n",
    "# Plotando o gráfico\n",
    "\n",
    "plt.figure(figsize=(10, 6))\n",
    "sns.barplot(x='Forma de Pagamento', y='Status', data=vendas_forma_pagamento, color='steelblue')\n",
    "plt.xlabel('Forma de Pagamento')\n",
    "plt.ylabel('Count')\n",
    "plt.title('Número de vendas por forma de pagamento')\n",
    "plt.show()"
   ]
  },
  {
   "cell_type": "markdown",
   "metadata": {},
   "source": [
    "- Número de vendas Brasil vs Exterior"
   ]
  },
  {
   "cell_type": "code",
   "execution_count": 29,
   "metadata": {},
   "outputs": [
    {
     "data": {
      "image/png": "[encoded data removed]",
      "text/plain": [
       "<Figure size 800x600 with 1 Axes>"
      ]
     },
     "metadata": {},
     "output_type": "display_data"
    }
   ],
   "source": [
    "# Selecionando os dados\n",
    "\n",
    "vendas_pais = df_consolidado.groupby('Pais')['Status'].count()\n",
    "\n",
    "# Plotando o gráfico\n",
    "\n",
    "colors = ['steelblue', 'lightsteelblue']\n",
    "\n",
    "plt.figure(figsize=(8, 6))\n",
    "plt.pie(vendas_pais, labels=vendas_pais.index, autopct='%1.1f%%', colors=colors)\n",
    "plt.title('Percentual de vendas Brasil vs Exterior')\n",
    "plt.show()"
   ]
  },
  {
   "cell_type": "markdown",
   "metadata": {},
   "source": [
    "- Breakdown do faturamento por plataforma"
   ]
  },
  {
   "cell_type": "code",
   "execution_count": 30,
   "metadata": {},
   "outputs": [
    {
     "data": {
      "image/png": "[encoded data removed]",
      "text/plain": [
       "<Figure size 1000x600 with 1 Axes>"
      ]
     },
     "metadata": {},
     "output_type": "display_data"
    }
   ],
   "source": [
    "# Selecionando os dados\n",
    "\n",
    "vendas_plataforma = df_consolidado.groupby('Plataforma')['Valor da Venda'].sum()\n",
    "\n",
    "# Plotando o gráfico\n",
    "\n",
    "colors = ['darkgrey', 'steelblue', 'cornflowerblue', 'lightsteelblue']\n",
    "\n",
    "plt.figure(figsize=(10, 6))\n",
    "plt.pie(vendas_plataforma, labels=vendas_plataforma.index, autopct='%1.1f%%', startangle=90, colors=colors)\n",
    "plt.title('Breakdown do faturamento por plataforma')\n",
    "plt.show()"
   ]
  },
  {
   "cell_type": "markdown",
   "metadata": {},
   "source": [
    "- Faturamento por produto"
   ]
  },
  {
   "cell_type": "code",
   "execution_count": 31,
   "metadata": {},
   "outputs": [
    {
     "data": {
      "image/png": "[encoded data removed]",
      "text/plain": [
       "<Figure size 1000x600 with 1 Axes>"
      ]
     },
     "metadata": {},
     "output_type": "display_data"
    }
   ],
   "source": [
    "# Selecionando os dados\n",
    "\n",
    "vendas_produto = df_consolidado.groupby(['Produto'])['Valor da Venda'].sum().reset_index().sort_values(by='Valor da Venda', ascending=False)\n",
    "\n",
    "# Plotando o gráfico\n",
    "\n",
    "plt.figure(figsize=(10, 6))\n",
    "sns.barplot(x='Produto', y='Valor da Venda', data=vendas_produto, color='steelblue')\n",
    "plt.xlabel('Produto')\n",
    "plt.ylabel('Valor da Venda')\n",
    "plt.title('Volume vendido por produto')\n",
    "plt.show()"
   ]
  }
 ],
 "metadata": {
  "kernelspec": {
   "display_name": "base",
   "language": "python",
   "name": "python3"
  },
  "language_info": {
   "codemirror_mode": {
    "name": "ipython",
    "version": 3
   },
   "file_extension": ".py",
   "mimetype": "text/x-python",
   "name": "python",
   "nbconvert_exporter": "python",
   "pygments_lexer": "ipython3",
   "version": "3.11.4"
  }
 },
 "nbformat": 4,
 "nbformat_minor": 2
}
